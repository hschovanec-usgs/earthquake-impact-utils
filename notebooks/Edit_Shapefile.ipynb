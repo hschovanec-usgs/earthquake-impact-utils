{
 "cells": [
  {
   "cell_type": "code",
   "execution_count": 93,
   "metadata": {},
   "outputs": [],
   "source": [
    "import fiona\n",
    "import pytz\n",
    "from datetime import datetime\n",
    "import collections"
   ]
  },
  {
   "cell_type": "code",
   "execution_count": 96,
   "metadata": {},
   "outputs": [],
   "source": [
    "fname = 'combined-shapefile-with-oceans.shp'\n",
    "outname = 'combined-shapefile-with-oceans-updated.shp'"
   ]
  },
  {
   "cell_type": "code",
   "execution_count": 97,
   "metadata": {},
   "outputs": [],
   "source": [
    "with fiona.open(fname) as source:\n",
    "    source_driver = source.driver\n",
    "    source_crs = source.crs\n",
    "    source_schema = source.schema\n",
    "    source_schema['properties']['tzid'] = 'int'\n",
    "    with fiona.open(outname, 'w', driver=source_driver, crs=source_crs, schema=source_schema) as c:\n",
    "        for poly in source:\n",
    "            geom = poly['geometry']\n",
    "            props = collections.OrderedDict()\n",
    "            tzid = poly['properties']['tzid']\n",
    "            mytz = pytz.timezone(tzid)\n",
    "            offset = mytz.utcoffset(datetime.utcnow())\n",
    "            offset = int(offset.total_seconds()/3600)\n",
    "            props['tzid'] = offset\n",
    "            new_record = {'properties': props, 'geometry': geom}\n",
    "            c.write(new_record)\n",
    "\n",
    "\n",
    "\n",
    "\n"
   ]
  }
 ],
 "metadata": {
  "kernelspec": {
   "display_name": "Python 3",
   "language": "python",
   "name": "python3"
  },
  "language_info": {
   "codemirror_mode": {
    "name": "ipython",
    "version": 3
   },
   "file_extension": ".py",
   "mimetype": "text/x-python",
   "name": "python",
   "nbconvert_exporter": "python",
   "pygments_lexer": "ipython3",
   "version": "3.7.3"
  }
 },
 "nbformat": 4,
 "nbformat_minor": 2
}
